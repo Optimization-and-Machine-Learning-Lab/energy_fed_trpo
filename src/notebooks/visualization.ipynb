{
 "cells": [
  {
   "cell_type": "code",
   "execution_count": 2,
   "metadata": {},
   "outputs": [],
   "source": [
    "import csv\n",
    "import json\n",
    "import pvlib\n",
    "\n",
    "import numpy as np\n",
    "import pandas as pd\n",
    "import seaborn as sns\n",
    "import matplotlib.pyplot as plt"
   ]
  },
  {
   "cell_type": "markdown",
   "metadata": {},
   "source": [
    "# Test with TMY"
   ]
  },
  {
   "cell_type": "code",
   "execution_count": 3,
   "metadata": {},
   "outputs": [],
   "source": [
    "latitude, longitude = 37.8, -122.3 # San Francisco\n",
    "\n",
    "data, months, inputs, metadata = pvlib.iotools.get_pvgis_tmy(\n",
    "    latitude, longitude, outputformat='json', usehorizon=True, userhorizon=None, startyear=None, endyear=2014, map_variables=True, timeout=30, roll_utc_offset=None, coerce_year=None\n",
    ")"
   ]
  },
  {
   "cell_type": "code",
   "execution_count": null,
   "metadata": {},
   "outputs": [],
   "source": [
    "data.tail()"
   ]
  },
  {
   "cell_type": "code",
   "execution_count": null,
   "metadata": {},
   "outputs": [],
   "source": [
    "# Plor the temperature and humidity in a dual axis for the first 24 hours\n",
    "\n",
    "day = 200\n",
    "\n",
    "plt.figure(figsize=(12, 4))\n",
    "\n",
    "ax1 = plt.gca()\n",
    "ax2 = ax1.twinx()\n",
    "\n",
    "data['temp_air'][day:day + 24].plot(ax=ax1, color='r')\n",
    "data['relative_humidity'][day:day + 24].plot(ax=ax2, color='b')\n",
    "\n",
    "ax1.set_ylabel('Temperature (C)', color='r')\n",
    "ax2.set_ylabel('Relative Humidity %', color='b')\n",
    "\n",
    "plt.show()"
   ]
  },
  {
   "cell_type": "code",
   "execution_count": null,
   "metadata": {},
   "outputs": [],
   "source": [
    "# Add the hour column to the data and plot the mean temperature and humidity for each hour of the day\n",
    "\n",
    "data['hour'] = data.index.hour\n",
    "\n",
    "fig, (ax1, ax2) = plt.subplots(2, 1, figsize=(12, 8))\n",
    "\n",
    "# Calculate mean and variance for temperature\n",
    "temp_mean = data.groupby('hour')['temp_air'].mean()\n",
    "temp_std = data.groupby('hour')['temp_air'].std()\n",
    "\n",
    "# Calculate mean and variance for relative humidity\n",
    "humidity_mean = data.groupby('hour')['relative_humidity'].mean()\n",
    "humidity_std = data.groupby('hour')['relative_humidity'].std()\n",
    "\n",
    "# Plot mean temperature with variance envelope\n",
    "sns.lineplot(x=temp_mean.index, y=temp_mean, color='r', label='Mean Temperature', ax=ax1)\n",
    "ax1.fill_between(temp_mean.index, temp_mean - temp_std, temp_mean + temp_std, color='r', alpha=0.3)\n",
    "ax1.set_ylabel('Temperature (C)')\n",
    "ax1.grid()  # Add grid\n",
    "ax1.legend(loc='upper left')\n",
    "\n",
    "# Plot mean relative humidity with variance envelope\n",
    "sns.lineplot(x=humidity_mean.index, y=humidity_mean, color='b', label='Mean Relative Humidity', ax=ax2)\n",
    "ax2.fill_between(humidity_mean.index, humidity_mean - humidity_std, humidity_mean + humidity_std, color='b', alpha=0.3)\n",
    "ax2.set_ylabel('Relative Humidity (%)')\n",
    "ax2.grid()  # Add grid\n",
    "ax2.legend(loc='upper left')\n",
    "\n",
    "plt.xlabel('Hour of the Day')\n",
    "plt.show()"
   ]
  },
  {
   "cell_type": "code",
   "execution_count": 7,
   "metadata": {},
   "outputs": [],
   "source": [
    "latitude, longitude = 37.8, -122.3 # San Francisco\n",
    "\n",
    "data, months, inputs, metadata = pvlib.iotools.get_pvgis_tmy(\n",
    "    latitude, longitude, outputformat='json', usehorizon=True, userhorizon=None, startyear=2014, endyear=2023, map_variables=True, timeout=30, roll_utc_offset=None, coerce_year=None\n",
    ")"
   ]
  },
  {
   "cell_type": "code",
   "execution_count": null,
   "metadata": {},
   "outputs": [],
   "source": [
    "data.tail()"
   ]
  },
  {
   "cell_type": "code",
   "execution_count": null,
   "metadata": {},
   "outputs": [],
   "source": [
    "# Plor the temperature and humidity in a dual axis for the first 24 hours\n",
    "\n",
    "day = 200\n",
    "\n",
    "plt.figure(figsize=(12, 4))\n",
    "\n",
    "ax1 = plt.gca()\n",
    "ax2 = ax1.twinx()\n",
    "\n",
    "data['temp_air'][day:day + 24].plot(ax=ax1, color='r')\n",
    "data['relative_humidity'][day:day + 24].plot(ax=ax2, color='b')\n",
    "\n",
    "ax1.set_ylabel('Temperature (C)', color='r')\n",
    "ax2.set_ylabel('Relative Humidity %', color='b')\n",
    "\n",
    "plt.show()"
   ]
  },
  {
   "cell_type": "code",
   "execution_count": null,
   "metadata": {},
   "outputs": [],
   "source": [
    "# Add the hour column to the data and plot the mean temperature and humidity for each hour of the day\n",
    "\n",
    "data['hour'] = data.index.hour\n",
    "\n",
    "fig, (ax1, ax2) = plt.subplots(2, 1, figsize=(12, 8))\n",
    "\n",
    "# Calculate mean and variance for temperature\n",
    "temp_mean = data.groupby('hour')['temp_air'].mean()\n",
    "temp_std = data.groupby('hour')['temp_air'].std()\n",
    "\n",
    "# Calculate mean and variance for relative humidity\n",
    "humidity_mean = data.groupby('hour')['relative_humidity'].mean()\n",
    "humidity_std = data.groupby('hour')['relative_humidity'].std()\n",
    "\n",
    "# Plot mean temperature with variance envelope\n",
    "sns.lineplot(x=temp_mean.index, y=temp_mean, color='r', label='Mean Temperature', ax=ax1)\n",
    "ax1.fill_between(temp_mean.index, temp_mean - temp_std, temp_mean + temp_std, color='r', alpha=0.3)\n",
    "ax1.set_ylabel('Temperature (C)')\n",
    "ax1.grid()  # Add grid\n",
    "ax1.legend(loc='upper left')\n",
    "\n",
    "# Plot mean relative humidity with variance envelope\n",
    "sns.lineplot(x=humidity_mean.index, y=humidity_mean, color='b', label='Mean Relative Humidity', ax=ax2)\n",
    "ax2.fill_between(humidity_mean.index, humidity_mean - humidity_std, humidity_mean + humidity_std, color='b', alpha=0.3)\n",
    "ax2.set_ylabel('Relative Humidity (%)')\n",
    "ax2.grid()  # Add grid\n",
    "ax2.legend(loc='upper left')\n",
    "\n",
    "plt.xlabel('Hour of the Day')\n",
    "plt.show()"
   ]
  },
  {
   "cell_type": "markdown",
   "metadata": {},
   "source": [
    "# Simple gegnerated data"
   ]
  },
  {
   "cell_type": "code",
   "execution_count": 66,
   "metadata": {},
   "outputs": [],
   "source": [
    "b_data = []\n",
    "for b in range(1, 6):\n",
    "    file_path = \"./data/simple_data/Building_\"+str(b)+\".csv\"\n",
    "    # file_path = \"./data/gen_data/Building_\"+str(b)+\".csv\"\n",
    "    # file_path = \"./data/ref_data/Building_\"+str(b)+\".csv\"\n",
    "    b_data.append(pd.read_csv(file_path))"
   ]
  },
  {
   "cell_type": "code",
   "execution_count": 67,
   "metadata": {},
   "outputs": [],
   "source": [
    "w_data = []\n",
    "for b in range(1, 6):\n",
    "    file_path = \"./data/simple_data/weather_\"+str(b)+\".csv\"\n",
    "    # file_path = \"./data/simple_data/weather.csv\"\n",
    "    # file_path = \"./data/gen_data/weather_\"+str(b)+\".csv\"\n",
    "    # file_path = \"./data/ref_data/weather.csv\"\n",
    "    w_data.append(pd.read_csv(file_path))"
   ]
  },
  {
   "cell_type": "code",
   "execution_count": 68,
   "metadata": {},
   "outputs": [],
   "source": [
    "with open(\"./data/simple_data/schema.json\") as f:\n",
    "# with open(\"./data/gen_data/schema.json\") as f:\n",
    "# with open(\"./data/ref_data/schema.json\") as f:\n",
    "    train_dict = json.load(f)"
   ]
  },
  {
   "cell_type": "markdown",
   "metadata": {},
   "source": [
    "## Check generated data"
   ]
  },
  {
   "cell_type": "code",
   "execution_count": null,
   "metadata": {},
   "outputs": [],
   "source": [
    "# Add the hour column to the data and plot the mean temperature, humidity, and direct solar irradiance for each hour of the day, for each building in subplots\n",
    "\n",
    "fig, axs = plt.subplots(5, 3, figsize=(18, 20))\n",
    "\n",
    "for b in range(5):\n",
    "\n",
    "    w_data[b]['hour'] = b_data[b]['hour'].to_numpy()\n",
    "\n",
    "    # Calculate mean and variance for temperature\n",
    "    temp_mean = w_data[b].groupby('hour')['outdoor_dry_bulb_temperature'].mean()\n",
    "    temp_std = w_data[b].groupby('hour')['outdoor_dry_bulb_temperature'].std()\n",
    "\n",
    "    # Calculate mean and variance for relative humidity\n",
    "    humidity_mean = w_data[b].groupby('hour')['outdoor_relative_humidity'].mean()\n",
    "    humidity_std = w_data[b].groupby('hour')['outdoor_relative_humidity'].std()\n",
    "\n",
    "    # Calculate mean and variance for direct solar irradiance\n",
    "    solar_mean = w_data[b].groupby('hour')['direct_solar_irradiance'].mean()\n",
    "    solar_std = w_data[b].groupby('hour')['direct_solar_irradiance'].std()\n",
    "\n",
    "    # Plot mean temperature with variance envelope\n",
    "    sns.lineplot(x=temp_mean.index, y=temp_mean, color='r', label='Mean Temperature', ax=axs[b, 0])\n",
    "    axs[b, 0].fill_between(temp_mean.index, temp_mean - temp_std, temp_mean + temp_std, color='r', alpha=0.3)\n",
    "    axs[b, 0].set_ylabel('Temperature (C)')\n",
    "    axs[b, 0].grid()  # Add grid\n",
    "    axs[b, 0].legend(loc='upper left')\n",
    "\n",
    "    # Plot mean relative humidity with variance envelope\n",
    "    sns.lineplot(x=humidity_mean.index, y=humidity_mean, color='b', label='Mean Relative Humidity', ax=axs[b, 1])\n",
    "    axs[b, 1].fill_between(humidity_mean.index, humidity_mean - humidity_std, humidity_mean + humidity_std, color='b', alpha=0.3)\n",
    "    axs[b, 1].set_ylabel('Relative Humidity (%)')\n",
    "    axs[b, 1].grid()  # Add grid\n",
    "    axs[b, 1].legend(loc='upper left')\n",
    "\n",
    "    # Plot mean direct solar irradiance with variance envelope\n",
    "    sns.lineplot(x=solar_mean.index, y=solar_mean, color='g', label='Mean Direct Solar Irradiance', ax=axs[b, 2])\n",
    "    axs[b, 2].fill_between(solar_mean.index, solar_mean - solar_std, solar_mean + solar_std, color='g', alpha=0.3)\n",
    "    axs[b, 2].set_ylabel('Direct Solar Irradiance (W/m^2)')\n",
    "    axs[b, 2].grid()  # Add grid\n",
    "    axs[b, 2].legend(loc='upper left')\n",
    "\n",
    "plt.xlabel('Hour of the Day')\n",
    "plt.show()"
   ]
  },
  {
   "cell_type": "code",
   "execution_count": null,
   "metadata": {},
   "outputs": [],
   "source": [
    "# Add the hour column to the data and plot the mean temperature, humidity, and direct solar irradiance for each hour of the day, for each building in subplots\n",
    "\n",
    "fig, axs = plt.subplots(5, 2, figsize=(18, 20))\n",
    "\n",
    "for b in range(5):\n",
    "\n",
    "    # b_data[b]['hour'] = b_data[b].index % 24 + 1\n",
    "\n",
    "    # Calculate mean and variance for solar generation\n",
    "    solar_mean = b_data[b].groupby('hour')['solar_generation'].mean()\n",
    "    solar_std = b_data[b].groupby('hour')['solar_generation'].std()\n",
    "\n",
    "    # Calculate mean and variance for non shiftable load\n",
    "    load_mean = b_data[b].groupby('hour')['non_shiftable_load'].mean()\n",
    "    load_std = b_data[b].groupby('hour')['non_shiftable_load'].std()\n",
    "\n",
    "    # Plot mean solar generation with variance envelope\n",
    "    sns.lineplot(x=solar_mean.index, y=solar_mean, color='r', label='Mean Solar Generation', ax=axs[b, 0])\n",
    "    axs[b, 0].fill_between(solar_mean.index, solar_mean - solar_std, solar_mean + solar_std, color='r', alpha=0.3)\n",
    "    axs[b, 0].set_ylabel('Solar Generation (W)')\n",
    "    axs[b, 0].grid()  # Add grid\n",
    "    axs[b, 0].legend(loc='upper left')\n",
    "\n",
    "    # Plot mean non shiftable load with variance envelope\n",
    "    sns.lineplot(x=load_mean.index, y=load_mean, color='b', label='Mean Non Shiftable Load', ax=axs[b, 1])\n",
    "    axs[b, 1].fill_between(load_mean.index, load_mean - load_std, load_mean + load_std, color='b', alpha=0.3)\n",
    "    axs[b, 1].set_ylabel('Non Shiftable Load (W)')\n",
    "    axs[b, 1].grid()  # Add grid\n",
    "    axs[b, 1].legend(loc='upper left')\n",
    "\n",
    "plt.xlabel('Hour of the Day')\n",
    "plt.show()\n"
   ]
  },
  {
   "cell_type": "code",
   "execution_count": null,
   "metadata": {},
   "outputs": [],
   "source": [
    "b_data[0].head()"
   ]
  },
  {
   "cell_type": "code",
   "execution_count": null,
   "metadata": {},
   "outputs": [],
   "source": [
    "b_data[2].head()"
   ]
  },
  {
   "cell_type": "code",
   "execution_count": null,
   "metadata": {},
   "outputs": [],
   "source": [
    "b_data[0]['solar_generation'].plot()\n",
    "plt.show()"
   ]
  },
  {
   "cell_type": "code",
   "execution_count": null,
   "metadata": {},
   "outputs": [],
   "source": [
    "w_data[0].head()"
   ]
  },
  {
   "cell_type": "code",
   "execution_count": null,
   "metadata": {},
   "outputs": [],
   "source": [
    "w_data[0]['outdoor_dry_bulb_temperature'].plot()\n",
    "plt.show()"
   ]
  },
  {
   "cell_type": "code",
   "execution_count": 8,
   "metadata": {},
   "outputs": [],
   "source": [
    "def draw_graph(b1, b2, index):\n",
    "\n",
    "    building1_name = \"Building_\"+str(b1+1)\n",
    "    building2_name = \"Building_\"+str(b2+1)\n",
    "\n",
    "    temp_random_1_b, temp_random_1_e = train_dict[\"buildings\"][building1_name][\"temp_random\"]\n",
    "    temp_random_2_b, temp_random_2_e = test_dict[\"buildings\"][building2_name][\"temp_random\"]\n",
    "    hum_random_1_b, hum_random_1_e = train_dict[\"buildings\"][building1_name][\"hum_random\"]\n",
    "    hum_random_2_b, hum_random_2_e = test_dict[\"buildings\"][building2_name][\"hum_random\"]\n",
    "\n",
    "    temp_train = []\n",
    "    temp_test = []\n",
    "    hum_train = []\n",
    "    hum_test = []\n",
    "    for temp_random in np.linspace(temp_random_1_b, temp_random_1_e, 2):\n",
    "        temp_train.append(w_data[b1][\"Outdoor Drybulb Temperature [C]\"] + temp_random)\n",
    "    for temp_random in np.linspace(temp_random_2_b, temp_random_2_e, 2):\n",
    "        temp_test.append(w_data[b2][\"Outdoor Drybulb Temperature [C]\"] + temp_random)\n",
    "    for hum_random in np.linspace(hum_random_1_b, hum_random_1_e, 2):\n",
    "        hum_train.append(w_data[b1][\"Relative Humidity [%]\"] + hum_random)\n",
    "    for hum_random in np.linspace(hum_random_2_b, hum_random_2_e, 2):\n",
    "        hum_test.append(w_data[b2][\"Relative Humidity [%]\"] + hum_random)\n",
    "    temp_train = np.array(temp_train)\n",
    "    temp_test = np.array(temp_test)\n",
    "    hum_train = np.array(hum_train)\n",
    "    hum_test = np.array(hum_test)\n",
    "\n",
    "    solar_train_base = np.array(b_data[b1][\"Solar Generation [W/kW]\"])\n",
    "    solar_test_base = np.array(b_data[b2][\"Solar Generation [W/kW]\"])\n",
    "    demand_train_base = np.array(b_data[b1][\"Equipment Electric Power [kWh]\"])\n",
    "    demand_test_base = np.array(b_data[b2][\"Equipment Electric Power [kWh]\"])\n",
    "\n",
    "    plot_demand_train = []\n",
    "    plot_demand_test = []\n",
    "    # day = np.array(list(range(0, 24)))\n",
    "\n",
    "    solar_efficiency_tr = train_dict[\"buildings\"][building1_name][\"solar_efficiency\"]\n",
    "    solar_efficiency_te = test_dict[\"buildings\"][building2_name][\"solar_efficiency\"]\n",
    "    ac_efficiency_tr = train_dict[\"buildings\"][building1_name][\"ac_efficiency\"]\n",
    "    ac_efficiency_te = test_dict[\"buildings\"][building2_name][\"ac_efficiency\"]\n",
    "    # solar_intercept_tr = train_dict[\"buildings\"][building1_name][\"solar_intercept\"]\n",
    "    # solar_intercept_te = test_dict[\"buildings\"][building2_name][\"solar_intercept\"]\n",
    "    solar_panel_tr = train_dict[\"buildings\"][building1_name][\"solar_panel\"]\n",
    "    solar_panel_te = test_dict[\"buildings\"][building2_name][\"solar_panel\"]\n",
    "\n",
    "    if index == -1:     # solar\n",
    "        # for temp_random in np.linspace(0, 20, 100):\n",
    "        #     plot_demand_train.append((b_data[b1][\"Solar Generation [W/kW]\"]*i)/1000)\n",
    "        # for j in np.linspace(4.0, 4.1, 100):\n",
    "        #     plot_demand_test.append((b_data[b2][\"Solar Generation [W/kW]\"]*j)/1000)\n",
    "        plot_demand_train = (temp_train*solar_efficiency_tr*solar_panel_tr**2) * solar_train_base / 1000\n",
    "        plot_demand_test = (temp_test*solar_efficiency_te*solar_panel_te**2) * solar_test_base / 1000\n",
    "    else:               # non shiftable demand\n",
    "        # for i in np.linspace(0.1, 1, 100):\n",
    "        #     plot_demand_train.append(b_data[b1][\"Equipment Electric Power [kWh]\"]+i)\n",
    "        # for j in np.linspace(0, 0.1, 100):\n",
    "        #     plot_demand_test.append(b_data[b2][\"Equipment Electric Power [kWh]\"]+j)\n",
    "        plot_demand_train = (hum_train-60)/20/ac_efficiency_tr + (30-temp_train)/25/ac_efficiency_tr + demand_train_base\n",
    "        plot_demand_test = (hum_test-60)/20/ac_efficiency_te + (30-temp_test)/25/ac_efficiency_te + demand_test_base\n",
    "\n",
    "    plot_demand_train = np.array(plot_demand_train)\n",
    "    plot_demand_test = np.array(plot_demand_test)\n",
    "\n",
    "    df_train = pd.DataFrame()\n",
    "    df_train[\"hour\"] = list(range(0, 24)) * 2\n",
    "    df_train[\"data\"] = plot_demand_train.reshape(-1)\n",
    "\n",
    "    df_test = pd.DataFrame()\n",
    "    df_test[\"hour\"] = list(range(0, 24)) * 2\n",
    "    df_test[\"data\"] = plot_demand_test.reshape(-1)\n",
    "\n",
    "    # plt.plot(day, plot_demand_train[0], 'r--', label=\"Building \"+str(b1+1)+\" training\")\n",
    "    # for i in range(1, len(plot_demand_train)):\n",
    "    #     plt.plot(day, plot_demand_train[i], 'r--')\n",
    "    #     # print(plot_demand_train[i-4])\n",
    "\n",
    "    # plt.plot(day, plot_demand_test[0], 'b--', label=\"Building \"+str(b2+1)+\" testing\")\n",
    "    # for i in range(1, len(plot_demand_test)):\n",
    "    #     plt.plot(day, plot_demand_test[i], 'b--')\n",
    "    # # plt.title(\"train_\"+str(b1+1)+\"_test_\"+str(b2+1))\n",
    "\n",
    "    sns.lineplot(x=\"hour\", y=\"data\", data=df_train, label=\"Building \"+str(b1+1)+\" training\")\n",
    "    sns.lineplot(x=\"hour\", y=\"data\", data=df_test, label=\"Building \"+str(b2+1)+\" testing\")\n",
    "\n",
    "\n",
    "\n",
    "    if index==-1:\n",
    "        plt.title(\"Bldg. \"+str(b1+1)+\" tr & Bldg \"+str(b2+1)+\" te solar generation\", fontsize = 20)\n",
    "    else:\n",
    "        plt.title(\"Bldg \"+str(b1+1)+\" tr & Bldg \"+str(b2+1)+\" te demand\", fontsize = 20)\n",
    "\n",
    "    plt.legend(loc=\"upper left\", prop={'size': 10})\n",
    "    plt.xlabel(\"hour\")\n",
    "    plt.show()"
   ]
  },
  {
   "cell_type": "code",
   "execution_count": null,
   "metadata": {},
   "outputs": [],
   "source": [
    "for i in range(5):\n",
    "    for j in range(5):\n",
    "        draw_graph(i, j, -1)    # solar generation"
   ]
  },
  {
   "cell_type": "code",
   "execution_count": null,
   "metadata": {},
   "outputs": [],
   "source": [
    "for i in range(5):\n",
    "    for j in range(5):\n",
    "        draw_graph(i, j, -5)    # demand"
   ]
  },
  {
   "cell_type": "code",
   "execution_count": 12,
   "metadata": {},
   "outputs": [],
   "source": [
    "def draw_solar_demand(b1):\n",
    "\n",
    "\n",
    "    building1_name = \"Building_\"+str(b1+1)\n",
    "\n",
    "    temp_random_1_b, temp_random_1_e = train_dict[\"buildings\"][building1_name][\"temp_random\"]\n",
    "    temp_random_2_b, temp_random_2_e = test_dict[\"buildings\"][building1_name][\"temp_random\"]\n",
    "    hum_random_1_b, hum_random_1_e = train_dict[\"buildings\"][building1_name][\"hum_random\"]\n",
    "    hum_random_2_b, hum_random_2_e = test_dict[\"buildings\"][building1_name][\"hum_random\"]\n",
    "\n",
    "    temp_train = []\n",
    "    temp_test = []\n",
    "    hum_train = []\n",
    "    hum_test = []\n",
    "    for temp_random in np.linspace(temp_random_1_b, temp_random_1_e, 10):\n",
    "        temp_train.append(w_data[b1][\"Outdoor Drybulb Temperature [C]\"] + temp_random)\n",
    "    for temp_random in np.linspace(temp_random_2_b, temp_random_2_e, 10):\n",
    "        temp_test.append(w_data[b1][\"Outdoor Drybulb Temperature [C]\"] + temp_random)\n",
    "    for hum_random in np.linspace(hum_random_1_b, hum_random_1_e, 10):\n",
    "        hum_train.append(w_data[b1][\"Relative Humidity [%]\"] + hum_random)\n",
    "    for hum_random in np.linspace(hum_random_2_b, hum_random_2_e, 10):\n",
    "        hum_test.append(w_data[b1][\"Relative Humidity [%]\"] + hum_random)\n",
    "    temp_train = np.array(temp_train)\n",
    "    temp_test = np.array(temp_test)\n",
    "    hum_train = np.array(hum_train)\n",
    "    hum_test = np.array(hum_test)\n",
    "\n",
    "    solar_train_base = np.array(b_data[b1][\"Solar Generation [W/kW]\"])\n",
    "    demand_train_base = np.array(b_data[b1][\"Equipment Electric Power [kWh]\"])\n",
    "\n",
    "    plot_demand_train = []\n",
    "    plot_demand_test = []\n",
    "    day = np.array(list(range(0, 24)))\n",
    "\n",
    "    solar_efficiency_tr = train_dict[\"buildings\"][building1_name][\"solar_efficiency\"]\n",
    "    ac_efficiency_tr = train_dict[\"buildings\"][building1_name][\"ac_efficiency\"]\n",
    "    solar_panel_tr = train_dict[\"buildings\"][building1_name][\"solar_panel\"]\n",
    "\n",
    "    plot_solar_train = (temp_train*solar_efficiency_tr*solar_panel_tr**2) * solar_train_base / 1000\n",
    "    plot_demand_train = (hum_train-60)/20/ac_efficiency_tr + (30-temp_train)/25/ac_efficiency_tr + demand_train_base\n",
    "\n",
    "    for i in range(len(plot_solar_train)):\n",
    "        plt.plot(day, plot_solar_train[i], 'r.')\n",
    "        # print(plot_demand_train[i-4])\n",
    "    for i in range(len(plot_demand_train)):\n",
    "        plt.plot(day, plot_demand_train[i], 'b--')\n",
    "    plt.title(\"train_\"+str(b1+1)+\"_test_\"+str(b1+1))\n",
    "    plt.show()"
   ]
  },
  {
   "cell_type": "code",
   "execution_count": null,
   "metadata": {},
   "outputs": [],
   "source": [
    "for i in range(5):\n",
    "    draw_solar_demand(i)"
   ]
  },
  {
   "cell_type": "code",
   "execution_count": null,
   "metadata": {},
   "outputs": [],
   "source": [
    "for i in range(5):\n",
    "    draw_graph(i, i, -1)"
   ]
  },
  {
   "cell_type": "code",
   "execution_count": null,
   "metadata": {},
   "outputs": [],
   "source": [
    "for i in range(5):\n",
    "    draw_graph(i, i, -5)"
   ]
  },
  {
   "cell_type": "code",
   "execution_count": null,
   "metadata": {},
   "outputs": [],
   "source": []
  }
 ],
 "metadata": {
  "kernelspec": {
   "display_name": "rl_energy",
   "language": "python",
   "name": "python3"
  },
  "language_info": {
   "codemirror_mode": {
    "name": "ipython",
    "version": 3
   },
   "file_extension": ".py",
   "mimetype": "text/x-python",
   "name": "python",
   "nbconvert_exporter": "python",
   "pygments_lexer": "ipython3",
   "version": "3.9.17"
  },
  "orig_nbformat": 4
 },
 "nbformat": 4,
 "nbformat_minor": 2
}
