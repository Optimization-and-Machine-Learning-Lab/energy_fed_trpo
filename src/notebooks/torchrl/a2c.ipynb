{
 "cells": [
  {
   "cell_type": "markdown",
   "metadata": {},
   "source": [
    "# Imports"
   ]
  },
  {
   "cell_type": "code",
   "execution_count": null,
   "metadata": {},
   "outputs": [],
   "source": [
    "import json\n",
    "import copy\n",
    "\n",
    "from src.utils.cl_rewards import *\n",
    "from src.utils.utils import get_env_from_config, set_seed\n",
    "\n",
    "# Torch\n",
    "import torch\n",
    "\n",
    "# Tensordict modules\n",
    "from tensordict import TensorDict\n",
    "from tensordict.nn import TensorDictModule\n",
    "from tensordict.nn.distributions import NormalParamExtractor\n",
    "\n",
    "# Data collection\n",
    "from torchrl.collectors import SyncDataCollector\n",
    "from torchrl.data import Composite, Categorical, Bounded, Unbounded\n",
    "from torchrl.data.replay_buffers import ReplayBuffer\n",
    "from torchrl.data.replay_buffers.samplers import SamplerWithoutReplacement\n",
    "from torchrl.data.replay_buffers.storages import LazyTensorStorage\n",
    "\n",
    "# Env\n",
    "from torchrl.envs import RewardSum, TransformedEnv, EnvBase\n",
    "from torchrl.envs.utils import check_env_specs\n",
    "\n",
    "# Multi-agent network\n",
    "from torchrl.modules import MultiAgentMLP, ProbabilisticActor, TanhNormal\n",
    "\n",
    "# Loss\n",
    "from torchrl.objectives import ValueEstimators, A2CLoss\n",
    "\n",
    "# Utils\n",
    "\n",
    "from torch import multiprocessing\n",
    "from matplotlib import pyplot as plt\n",
    "from tqdm import tqdm\n",
    "from gymnasium.wrappers import NormalizeReward\n",
    "from citylearn.wrappers import (\n",
    "    NormalizedObservationWrapper,\n",
    ")\n",
    "\n",
    "from src.utils.cl_torchrl_helper import (\n",
    "    create_env,\n",
    "    plot_rewards_and_actions\n",
    ")"
   ]
  },
  {
   "cell_type": "markdown",
   "metadata": {},
   "source": [
    "# Constants"
   ]
  },
  {
   "cell_type": "code",
   "execution_count": null,
   "metadata": {},
   "outputs": [],
   "source": [
    "REWARDS = {\n",
    "    'cost': Cost,\n",
    "    'weighted_cost_emissions': WeightedCostAndEmissions,\n",
    "    'cost_pen_no_batt': CostNoBattPenalization,\n",
    "    'cost_pen_bad_batt': CostBadBattUsePenalization,\n",
    "    'cost_pen_bad_action': CostIneffectiveActionPenalization,\n",
    "}"
   ]
  },
  {
   "cell_type": "markdown",
   "metadata": {},
   "source": [
    "## Create training and validation environments"
   ]
  },
  {
   "cell_type": "code",
   "execution_count": null,
   "metadata": {},
   "outputs": [],
   "source": [
    "# Common configurations for environments\n",
    "\n",
    "active_observations = [\n",
    "    'hour',\n",
    "    'day_type',\n",
    "    'solar_generation',\n",
    "    'net_electricity_consumption',\n",
    "    'electrical_storage_soc',\n",
    "    'non_shiftable_load',\n",
    "    'non_shiftable_load_predicted_4h',\n",
    "    'non_shiftable_load_predicted_6h',\n",
    "    'non_shiftable_load_predicted_12h',\n",
    "    'non_shiftable_load_predicted_24h',\n",
    "    'direct_solar_irradiance',\n",
    "    'direct_solar_irradiance_predicted_6h',\n",
    "    'direct_solar_irradiance_predicted_12h',\n",
    "    'direct_solar_irradiance_predicted_24h',\n",
    "    'selling_price'\n",
    "]\n",
    "\n",
    "data_path = 'data/naive_data/'\n",
    "reward = 'weighted_cost_emissions'\n",
    "seed = 0\n",
    "day_count = 1\n",
    "\n",
    "# device = 'cpu'\n",
    "\n",
    "device_ix = 7\n",
    "is_fork = multiprocessing.get_start_method() == \"fork\"\n",
    "device = (\n",
    "    torch.device(device_ix)\n",
    "    if torch.cuda.is_available() and not is_fork\n",
    "    else torch.device(\"cpu\")\n",
    ")\n",
    "\n",
    "set_seed(seed)\n",
    "\n",
    "# Training configurations\n",
    "\n",
    "schema_filepath = data_path + 'schema.json'\n",
    "\n",
    "with open(schema_filepath) as json_file:\n",
    "    schema_dict = json.load(json_file)\n",
    "\n",
    "train_env_config = {\n",
    "    \"schema\": schema_dict,\n",
    "    \"central_agent\": False,\n",
    "    \"active_observations\": active_observations,\n",
    "    \"reward_function\": REWARDS[reward],\n",
    "    \"random_seed\": seed,\n",
    "    \"day_count\": day_count,\n",
    "    \"personal_encoding\": True,\n",
    "}\n",
    "\n",
    "train_env = create_env(train_env_config, device, seed)\n",
    "\n",
    "# Validation configurations\n",
    "\n",
    "schema_filepath = data_path + 'eval/schema.json'\n",
    "\n",
    "with open(schema_filepath) as json_file:\n",
    "    schema_dict = json.load(json_file)\n",
    "\n",
    "eval_env_config = {\n",
    "    **train_env_config,\n",
    "    \"schema\": schema_dict,\n",
    "}\n",
    "\n",
    "eval_env = create_env(eval_env_config, device, seed)"
   ]
  },
  {
   "cell_type": "markdown",
   "metadata": {},
   "source": [
    "### Check specs for training and validation environments"
   ]
  },
  {
   "cell_type": "code",
   "execution_count": null,
   "metadata": {},
   "outputs": [],
   "source": [
    "print(\"action_spec:\", train_env.full_action_spec)\n",
    "print(\"reward_spec:\", train_env.full_reward_spec)\n",
    "print(\"done_spec:\", train_env.full_done_spec)\n",
    "print(\"observation_spec:\", train_env.full_observation_spec)"
   ]
  },
  {
   "cell_type": "code",
   "execution_count": null,
   "metadata": {},
   "outputs": [],
   "source": [
    "print(\"action_spec:\", eval_env.full_action_spec)\n",
    "print(\"reward_spec:\", eval_env.full_reward_spec)\n",
    "print(\"done_spec:\", eval_env.full_done_spec)\n",
    "print(\"observation_spec:\", eval_env.full_observation_spec)"
   ]
  },
  {
   "cell_type": "code",
   "execution_count": null,
   "metadata": {},
   "outputs": [],
   "source": [
    "check_env_specs(train_env)\n",
    "check_env_specs(eval_env)"
   ]
  },
  {
   "cell_type": "markdown",
   "metadata": {},
   "source": [
    "# A2C Training "
   ]
  },
  {
   "cell_type": "markdown",
   "metadata": {},
   "source": [
    "## Networks configuration"
   ]
  },
  {
   "cell_type": "markdown",
   "metadata": {},
   "source": [
    "### Policy definition"
   ]
  },
  {
   "cell_type": "code",
   "execution_count": null,
   "metadata": {},
   "outputs": [],
   "source": [
    "def create_probabilistic_policy(env, share_parameters_policy=True, device=\"cpu\"):\n",
    "\n",
    "    # First: define a neural network n_obs_per_agent -> 2 * n_actions_per_agents (mean and std)\n",
    "\n",
    "    policy_net = torch.nn.Sequential(\n",
    "        MultiAgentMLP(\n",
    "            n_agent_inputs=env.observation_spec[\"agents\", \"observation\"].shape[-1],\n",
    "            n_agent_outputs=2 * env.action_spec.shape[-1],\n",
    "            n_agents=env.n_agents,\n",
    "            centralised=False,\n",
    "            share_params=share_parameters_policy,\n",
    "            device=device,\n",
    "            depth=2,\n",
    "            num_cells=256,\n",
    "            activation_class=torch.nn.Tanh,\n",
    "        ),\n",
    "        NormalParamExtractor(),\n",
    "    )\n",
    "\n",
    "    # Second: wrap the neural network in a TensordictModule\n",
    "\n",
    "    policy_module = TensorDictModule(\n",
    "        policy_net,\n",
    "        in_keys=[(\"agents\", \"observation\")],\n",
    "        out_keys=[(\"agents\", \"loc\"), (\"agents\", \"scale\")],\n",
    "    )\n",
    "\n",
    "    # Third: define the probabilistic policy\n",
    "\n",
    "    policy = ProbabilisticActor(\n",
    "        module=policy_module,\n",
    "        spec=env.unbatched_action_spec,\n",
    "        in_keys=[(\"agents\", \"loc\"), (\"agents\", \"scale\")],\n",
    "        out_keys=[env.action_key],\n",
    "        distribution_class=TanhNormal,\n",
    "        distribution_kwargs={\n",
    "            \"low\": env.unbatched_action_spec[env.action_key].space.low,\n",
    "            \"high\": env.unbatched_action_spec[env.action_key].space.high,\n",
    "        },\n",
    "        return_log_prob=True,\n",
    "        log_prob_key=(\"agents\", \"sample_log_prob\"),\n",
    "    )  # we'll need the log-prob for the PPO loss\n",
    "\n",
    "    return policy\n",
    "\n",
    "policy = create_probabilistic_policy(train_env, share_parameters_policy=True, device=device)"
   ]
  },
  {
   "cell_type": "markdown",
   "metadata": {},
   "source": [
    "### Critic definition"
   ]
  },
  {
   "cell_type": "code",
   "execution_count": null,
   "metadata": {},
   "outputs": [],
   "source": [
    "def create_critic(env, share_parameters_critic=True, mappo=True, device=\"cpu\"):\n",
    "\n",
    "    critic_net = MultiAgentMLP(\n",
    "        n_agent_inputs=env.observation_spec[\"agents\", \"observation\"].shape[-1],\n",
    "        n_agent_outputs=1,  # 1 value per agent\n",
    "        n_agents=env.n_agents,\n",
    "        centralised=mappo,\n",
    "        share_params=share_parameters_critic,\n",
    "        device=device,\n",
    "        depth=2,\n",
    "        num_cells=256,\n",
    "        activation_class=torch.nn.Tanh,\n",
    "    )\n",
    "\n",
    "    critic = TensorDictModule(\n",
    "        module=critic_net,\n",
    "        in_keys=[(\"agents\", \"observation\")],\n",
    "        out_keys=[(\"agents\", \"state_value\")],\n",
    "    )\n",
    "    \n",
    "    return critic\n",
    "\n",
    "critic = create_critic(train_env, share_parameters_critic=True, mappo=True, device=device)"
   ]
  },
  {
   "cell_type": "markdown",
   "metadata": {},
   "source": [
    "### Verify that the Actor and Critic are well configured"
   ]
  },
  {
   "cell_type": "code",
   "execution_count": null,
   "metadata": {},
   "outputs": [],
   "source": [
    "print(\"Running policy:\", policy(train_env.reset()))\n",
    "print(\"Running value:\", critic(train_env.reset()))"
   ]
  },
  {
   "cell_type": "code",
   "execution_count": null,
   "metadata": {},
   "outputs": [],
   "source": [
    "def sample_data(env, policy, device, frames_per_batch, n_iters):\n",
    "    total_frames = frames_per_batch * n_iters\n",
    "    collector = SyncDataCollector(\n",
    "        env,\n",
    "        policy,\n",
    "        device=device,\n",
    "        storing_device=device,\n",
    "        frames_per_batch=frames_per_batch,\n",
    "        total_frames=total_frames,\n",
    "    )\n",
    "    return collector"
   ]
  },
  {
   "cell_type": "markdown",
   "metadata": {},
   "source": [
    "### Replay buffer"
   ]
  },
  {
   "cell_type": "code",
   "execution_count": null,
   "metadata": {},
   "outputs": [],
   "source": [
    "def create_replay_buffer(frames_per_batch, device, minibatch_size):\n",
    "    return ReplayBuffer(\n",
    "        storage=LazyTensorStorage(\n",
    "            frames_per_batch, device=device\n",
    "        ),  # We store the frames_per_batch collected at each iteration\n",
    "        sampler=SamplerWithoutReplacement(),\n",
    "        batch_size=minibatch_size,  # We will sample minibatches of this size\n",
    "    )"
   ]
  },
  {
   "cell_type": "markdown",
   "metadata": {},
   "source": [
    "### Loss function Reinforce"
   ]
  },
  {
   "cell_type": "code",
   "execution_count": null,
   "metadata": {},
   "outputs": [],
   "source": [
    "def create_loss_module(policy, critic, env, gamma, lmbda):\n",
    "\n",
    "    loss_module = A2CLoss(\n",
    "        actor_network=policy,\n",
    "        critic_network=critic,\n",
    "        entropy_bonus=True\n",
    "    )\n",
    "\n",
    "    loss_module.set_keys(  # We have to tell the loss where to find the keys\n",
    "        reward=env.reward_key,\n",
    "        action=env.action_key,\n",
    "        sample_log_prob=(\"agents\", \"sample_log_prob\"),\n",
    "        value=(\"agents\", \"state_value\"),\n",
    "        # These last 2 keys will be expanded to match the reward shape\n",
    "        done=(\"agents\", \"done\"),\n",
    "        terminated=(\"agents\", \"terminated\"),\n",
    "    )\n",
    "\n",
    "    loss_module.make_value_estimator(\n",
    "        ValueEstimators.GAE, gamma=gamma, lmbda=lmbda\n",
    "    )  # We build GAE\n",
    "    \n",
    "    return loss_module"
   ]
  },
  {
   "cell_type": "markdown",
   "metadata": {},
   "source": [
    "### Training loop"
   ]
  },
  {
   "cell_type": "code",
   "execution_count": null,
   "metadata": {},
   "outputs": [],
   "source": [
    "def train_policy(\n",
    "        env, eval_env, n_iters, collector,loss_module, replay_buffer, num_epochs, frames_per_batch, minibatch_size, max_grad_norm, optim\n",
    "    ):\n",
    "\n",
    "    episode_reward_mean_list = []\n",
    "    episode_reward_mean_list_eval = []\n",
    "\n",
    "    best_policy = None\n",
    "    best_eval_reward = -float(\"inf\")\n",
    "\n",
    "    GAE = loss_module.value_estimator\n",
    "\n",
    "    with tqdm(total=n_iters, nrows=10, desc=\"episode: 0, reward_mean: 0, eval_reward_mean: 0\") as pbar:\n",
    "\n",
    "        episode = 0\n",
    "\n",
    "        for tensordict_data in collector:\n",
    "\n",
    "            tensordict_data.set(\n",
    "                (\"next\", \"agents\", \"done\"),\n",
    "                tensordict_data.get((\"next\", \"done\"))\n",
    "                .unsqueeze(-1)\n",
    "                .repeat(1, 1, env.n_agents)\n",
    "                .unsqueeze(-1)\n",
    "                .expand(tensordict_data.get_item_shape((\"next\", env.reward_key))),\n",
    "            )\n",
    "            tensordict_data.set(\n",
    "                (\"next\", \"agents\", \"terminated\"),\n",
    "                tensordict_data.get((\"next\", \"terminated\"))\n",
    "                .unsqueeze(-1)\n",
    "                .repeat(1, 1, env.n_agents)\n",
    "                .unsqueeze(-1)\n",
    "                .expand(tensordict_data.get_item_shape((\"next\", env.reward_key))),\n",
    "            )\n",
    "\n",
    "            data_view = tensordict_data.reshape(-1)  # Flatten the batch size to shuffle data\n",
    "            replay_buffer.extend(data_view)\n",
    "\n",
    "            # We need to expand the done and terminated to match the reward shape (this is expected by the value estimator)\n",
    "\n",
    "            with torch.no_grad():\n",
    "                GAE(\n",
    "                    tensordict_data,\n",
    "                    params=loss_module.critic_network_params,\n",
    "                    target_params=loss_module.target_critic_network_params,\n",
    "                )  # Compute GAE and add it to the data\n",
    "\n",
    "            for _ in range(num_epochs):\n",
    "\n",
    "                for _ in range(frames_per_batch // minibatch_size):\n",
    "\n",
    "                    subdata = replay_buffer.sample()\n",
    "                    loss_vals = loss_module(subdata)\n",
    "\n",
    "                    loss_value = (\n",
    "                        loss_vals[\"loss_objective\"]\n",
    "                        + loss_vals[\"loss_critic\"]\n",
    "                        + loss_vals[\"loss_entropy\"]\n",
    "                    )\n",
    "\n",
    "                    loss_value.backward()\n",
    "\n",
    "                    torch.nn.utils.clip_grad_norm_(\n",
    "                        loss_module.parameters(), max_grad_norm\n",
    "                    )  # Optional\n",
    "\n",
    "                    optim.step()\n",
    "                    optim.zero_grad()\n",
    "\n",
    "            # Evaluating\n",
    "\n",
    "            with torch.no_grad():\n",
    "\n",
    "                policy.eval()\n",
    "\n",
    "                episode_reward_mean_eval = 0\n",
    "\n",
    "                for _ in range(minibatch_size):\n",
    "\n",
    "                    rollout = eval_env.rollout((eval_env.cl_env.unwrapped.time_steps - 1), policy=policy)\n",
    "                    episode_reward_mean_eval += rollout.get((\"next\", \"agents\", \"episode_reward\")).mean().item()\n",
    "\n",
    "                episode_reward_mean_eval = episode_reward_mean_eval / minibatch_size\n",
    "\n",
    "                episode_reward_mean_list_eval.append(episode_reward_mean_eval)\n",
    "                policy.train()\n",
    "\n",
    "\n",
    "            # Save best policy\n",
    "\n",
    "            if episode_reward_mean_eval > best_eval_reward:\n",
    "\n",
    "                best_eval_reward = episode_reward_mean_eval\n",
    "                best_policy = copy.deepcopy(policy)\n",
    "\n",
    "            # Logging\n",
    "\n",
    "            done = tensordict_data.get((\"next\", \"agents\", \"done\"))\n",
    "\n",
    "            episode_reward_mean = (\n",
    "                tensordict_data.get((\"next\", \"agents\", \"episode_reward\"))[done].mean().item()\n",
    "            )\n",
    "\n",
    "            episode_reward_mean_list.append(episode_reward_mean)\n",
    "\n",
    "            episode += 1\n",
    "\n",
    "            pbar.set_description(f\"episode: {episode}, reward_mean: {episode_reward_mean}, eval_reward_mean: {episode_reward_mean_eval}\")\n",
    "            pbar.update()\n",
    "\n",
    "    return best_policy, episode_reward_mean_list, episode_reward_mean_list_eval"
   ]
  },
  {
   "cell_type": "code",
   "execution_count": null,
   "metadata": {},
   "outputs": [],
   "source": [
    "# Configure data collection\n",
    "collector = sample_data(train_env, policy, device, 48, 3)\n",
    "\n",
    "for tensordict_data in collector:\n",
    "\n",
    "    print(\"tensordict_data:\", tensordict_data)\n",
    "\n"
   ]
  },
  {
   "cell_type": "markdown",
   "metadata": {},
   "source": [
    "## Launch training"
   ]
  },
  {
   "cell_type": "code",
   "execution_count": null,
   "metadata": {},
   "outputs": [],
   "source": [
    "# Sampling\n",
    "days_per_batch = 512\n",
    "frames_per_batch = days_per_batch * 24  # Number of team frames collected per training iteration\n",
    "n_iters = 60  # Number of sampling and training iterations\n",
    "total_frames = frames_per_batch * n_iters\n",
    "\n",
    "# Training\n",
    "num_epochs = 30  # Number of optimization steps per training iteration\n",
    "minibatch_size = 24  # Size of the mini-batches in each optimization step\n",
    "max_grad_norm = 1.0  # Maximum norm for the gradients\n",
    "lr = 1e-2  # Learning rate\n",
    "\n",
    "# A2C\n",
    "gamma = 1  # discount factor\n",
    "lmbda = 0.9  # lambda for generalised advantage estimation\n",
    "\n",
    "# Create networks\n",
    "policy = create_probabilistic_policy(train_env, share_parameters_policy=True, device=device)\n",
    "critic = create_critic(train_env, share_parameters_critic=True, mappo=True, device=device)\n",
    "\n",
    "# Configure data collection\n",
    "collector = sample_data(train_env, policy, device, frames_per_batch, n_iters)\n",
    "\n",
    "# Create replay buffer\n",
    "replay_buffer = create_replay_buffer(frames_per_batch, device, minibatch_size)\n",
    "\n",
    "# Create loss module\n",
    "loss_module = create_loss_module(policy, critic, train_env, gamma, lmbda)\n",
    "\n",
    "# Create optimizer\n",
    "optim = torch.optim.Adam(loss_module.parameters(), lr)\n",
    "\n",
    "# Train policy\n",
    "\n",
    "a2c_policy, a2c_reward_mean_list, a2c_eval_reward_mean_list = train_policy(\n",
    "    env=train_env,\n",
    "    eval_env=eval_env,\n",
    "    n_iters=n_iters,\n",
    "    collector=collector,\n",
    "    loss_module=loss_module,\n",
    "    replay_buffer=replay_buffer,\n",
    "    num_epochs=num_epochs,\n",
    "    frames_per_batch=frames_per_batch,\n",
    "    minibatch_size=minibatch_size,\n",
    "    max_grad_norm=max_grad_norm,\n",
    "    optim=optim,\n",
    ")"
   ]
  },
  {
   "cell_type": "markdown",
   "metadata": {},
   "source": [
    "### Plot results"
   ]
  },
  {
   "cell_type": "code",
   "execution_count": null,
   "metadata": {},
   "outputs": [],
   "source": [
    "plot_rewards_and_actions(a2c_reward_mean_list, a2c_eval_reward_mean_list, train_env, eval_env, a2c_policy)"
   ]
  }
 ],
 "metadata": {
  "kernelspec": {
   "display_name": "rl_energy",
   "language": "python",
   "name": "python3"
  },
  "language_info": {
   "codemirror_mode": {
    "name": "ipython",
    "version": 3
   },
   "file_extension": ".py",
   "mimetype": "text/x-python",
   "name": "python",
   "nbconvert_exporter": "python",
   "pygments_lexer": "ipython3",
   "version": "3.9.0"
  }
 },
 "nbformat": 4,
 "nbformat_minor": 2
}
