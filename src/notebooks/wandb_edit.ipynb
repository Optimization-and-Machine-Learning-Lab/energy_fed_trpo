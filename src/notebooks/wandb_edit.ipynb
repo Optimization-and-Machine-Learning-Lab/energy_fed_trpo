{
 "cells": [
  {
   "cell_type": "code",
   "execution_count": 32,
   "metadata": {},
   "outputs": [],
   "source": [
    "import wandb\n",
    "\n",
    "from tqdm import tqdm\n",
    "\n",
    "api = wandb.Api()"
   ]
  },
  {
   "cell_type": "code",
   "execution_count": 37,
   "metadata": {},
   "outputs": [],
   "source": [
    "def update_runs_in_sweep(sweep, tag):\n",
    "    \n",
    "    with tqdm(total=len(sweep.runs)) as pbar:\n",
    "\n",
    "        for run in sweep.runs:\n",
    "\n",
    "            if tag not in run.tags and sweep.name not in run.tags:\n",
    "                run.tags.append(tag if tag is not None else sweep.name)\n",
    "\n",
    "            # Add exp name to the config\n",
    "\n",
    "            run.config = {\n",
    "                **run.config,\n",
    "                \"exp_name\": sweep.name\n",
    "            }\n",
    "\n",
    "            run.update()\n",
    "\n",
    "            pbar.set_description(f\"Updating Sweep {sweep.name} - Run - {run.id}\")\n",
    "            pbar.update(1)"
   ]
  },
  {
   "cell_type": "code",
   "execution_count": 38,
   "metadata": {},
   "outputs": [
    {
     "name": "stderr",
     "output_type": "stream",
     "text": [
      "Updating Sweep fed_avg_trpo_2_b_pe_exp - Run - muh1w11r: 100%|██████████| 24/24 [00:17<00:00,  1.41it/s]\n",
      "Updating Sweep fed_avg_trpo_2_b_pe_gf_exp - Run - dyhm3gjm: 100%|██████████| 16/16 [00:10<00:00,  1.46it/s]\n",
      "Updating Sweep fed_avg_trpo_2_b_gf_exp - Run - 6jc2zapi: 100%|██████████| 17/17 [00:11<00:00,  1.45it/s]\n",
      "Updating Sweep fed_avg_trpo_2_b_exp - Run - 4f496q47: 100%|██████████| 21/21 [00:14<00:00,  1.40it/s]\n",
      "Updating Sweep fed_avg_ppo_2_b_pe_gf_exp - Run - mu0p1id5: 100%|██████████| 15/15 [00:10<00:00,  1.38it/s]\n",
      "Updating Sweep fed_avg_ppo_2_b_pe_exp - Run - ve3nnt4c: 100%|██████████| 15/15 [00:11<00:00,  1.28it/s]\n",
      "Updating Sweep fed_avg_ppo_2_b_gf_exp - Run - kh3yep6h: 100%|██████████| 15/15 [00:10<00:00,  1.43it/s]\n",
      "Updating Sweep fed_avg_ppo_2_b_exp - Run - 1o4125ga: 100%|██████████| 15/15 [00:10<00:00,  1.45it/s]\n"
     ]
    }
   ],
   "source": [
    "project = api.project(entity=\"optimllab\", name=\"fed_rl_energy\")\n",
    "\n",
    "for sweep in project.sweeps():\n",
    "\n",
    "    update_runs_in_sweep(sweep=sweep, tag=None)"
   ]
  },
  {
   "cell_type": "code",
   "execution_count": null,
   "metadata": {},
   "outputs": [],
   "source": []
  }
 ],
 "metadata": {
  "kernelspec": {
   "display_name": "rl_energy",
   "language": "python",
   "name": "python3"
  },
  "language_info": {
   "codemirror_mode": {
    "name": "ipython",
    "version": 3
   },
   "file_extension": ".py",
   "mimetype": "text/x-python",
   "name": "python",
   "nbconvert_exporter": "python",
   "pygments_lexer": "ipython3",
   "version": "3.9.0"
  }
 },
 "nbformat": 4,
 "nbformat_minor": 2
}
