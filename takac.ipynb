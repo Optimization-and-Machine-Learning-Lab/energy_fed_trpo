{
 "cells": [
  {
   "cell_type": "code",
   "execution_count": 1,
   "metadata": {},
   "outputs": [],
   "source": [
    "%load_ext autoreload\n",
    "%autoreload 2\n",
    "import sys\n",
    "sys.path.append('./TRPO/')"
   ]
  },
  {
   "cell_type": "code",
   "execution_count": 17,
   "metadata": {},
   "outputs": [],
   "source": [
    "import json\n",
    "import argparse\n",
    "from itertools import count\n",
    "\n",
    "import gymnasium as gym\n",
    "import scipy.optimize\n",
    "\n",
    "import torch\n",
    "from models import *\n",
    "from replay_memory import Memory\n",
    "from running_state import ZFilter\n",
    "from torch.autograd import Variable\n",
    "from trpo import trpo_step\n",
    "from utils import *\n",
    "import random\n",
    "\n",
    "import sys"
   ]
  },
  {
   "cell_type": "code",
   "execution_count": 4,
   "metadata": {},
   "outputs": [],
   "source": [
    "sys.path.append('./CityLearn/')\n",
    "# from citylearn.my_citylearn import CityLearnEnv\n",
    "from citylearn.gen_citylearn import CityLearnEnv\n",
    "\n",
    "wandb_record = False\n",
    "if wandb_record:\n",
    "    import wandb\n",
    "    wandb.init(project=\"TRPO_rl\")\n",
    "    wandb.run.name = \"test_my_env\"\n",
    "wandb_step = 0\n"
   ]
  },
  {
   "cell_type": "code",
   "execution_count": 10,
   "metadata": {},
   "outputs": [],
   "source": [
    "torch.utils.backcompat.broadcast_warning.enabled = True\n",
    "torch.utils.backcompat.keepdim_warning.enabled = True\n",
    "\n",
    "torch.set_default_tensor_type('torch.DoubleTensor')\n",
    "\n",
    "parser = argparse.ArgumentParser(description='PyTorch actor-critic example')\n",
    "parser.add_argument('--gamma', type=float, default=0.995, metavar='G',\n",
    "                    help='discount factor (default: 0.995)')\n",
    "parser.add_argument('--env-name', default=\"HalfCheetah-v4\", metavar='G',\n",
    "                    help='name of the environment to run')\n",
    "parser.add_argument('--tau', type=float, default=0.97, metavar='G',\n",
    "                    help='gae (default: 0.97)')\n",
    "parser.add_argument('--l2-reg', type=float, default=1e-3, metavar='G',\n",
    "                    help='l2 regularization regression (default: 1e-3)')\n",
    "parser.add_argument('--max-kl', type=float, default=1e-2, metavar='G',\n",
    "                    help='max kl value (default: 1e-2)')\n",
    "parser.add_argument('--damping', type=float, default=1e-1, metavar='G',\n",
    "                    help='damping (default: 1e-1)')\n",
    "parser.add_argument('--seed', type=int, default=543, metavar='N',\n",
    "                    help='random seed (default: 1)')\n",
    "parser.add_argument('--batch-size', type=int, default=15000, metavar='N',\n",
    "                    help='random seed (default: 1)')\n",
    "parser.add_argument('--render', action='store_true',\n",
    "                    help='render the environment')\n",
    "parser.add_argument('--log-interval', type=int, default=1, metavar='N',\n",
    "                    help='interval between training status logs (default: 10)')\n",
    " \n",
    "\n",
    "parser.add_argument('--data-path', default='./CityLearn/citylearn/data/gen_data/', help='data schema path')\n",
    "args = parser.parse_args('')\n",
    "\n",
    "schema_filepath = args.data_path+'schema.json'\n",
    "eval_schema_filepath = args.data_path+'schema_eval.json'\n",
    "\n",
    "\n",
    "env = CityLearnEnv(schema_filepath)\n",
    "\n"
   ]
  },
  {
   "cell_type": "code",
   "execution_count": 11,
   "metadata": {},
   "outputs": [
    {
     "data": {
      "text/plain": [
       "'./CityLearn/citylearn/data/gen_data/schema.json'"
      ]
     },
     "execution_count": 11,
     "metadata": {},
     "output_type": "execute_result"
    }
   ],
   "source": [
    "schema_filepath"
   ]
  },
  {
   "cell_type": "code",
   "execution_count": 20,
   "metadata": {},
   "outputs": [
    {
     "data": {
      "text/plain": [
       "5"
      ]
     },
     "execution_count": 20,
     "metadata": {},
     "output_type": "execute_result"
    }
   ],
   "source": [
    "env = CityLearnEnv(schema_filepath)\n",
    "# env = gym.make(args.env_name)\n",
    "\n",
    "num_inputs = env.observation_space[0].shape[0]\n",
    "num_actions = env.action_space[0].shape[0]\n",
    "\n",
    "num_inputs, num_actions\n",
    "building_count = len(env.buildings)\n",
    "building_count"
   ]
  },
  {
   "cell_type": "code",
   "execution_count": 30,
   "metadata": {},
   "outputs": [],
   "source": [
    "random.seed(0)\n",
    "load_random = [random.random()*0.9+0.1 for i in range(building_count)]\n",
    "solar_random = [random.random()*0.4+2.1 for i in range(building_count)]\n",
    "state = env.reset(load_random,solar_random);"
   ]
  },
  {
   "cell_type": "code",
   "execution_count": 31,
   "metadata": {},
   "outputs": [
    {
     "data": {
      "text/plain": [
       "24"
      ]
     },
     "execution_count": 31,
     "metadata": {},
     "output_type": "execute_result"
    }
   ],
   "source": [
    "\n",
    "done = False\n",
    "states = [state]\n",
    "while not done:\n",
    "    state, reward, done, info = env.step(actions=[0.1,0.2,0.3,0.1,.1])\n",
    "    states.append(state)\n",
    "\n",
    "len(states)"
   ]
  },
  {
   "cell_type": "code",
   "execution_count": 40,
   "metadata": {},
   "outputs": [
    {
     "data": {
      "text/plain": [
       "[0.0,\n",
       " 0.0,\n",
       " 0.9595748162249992,\n",
       " -0.0,\n",
       " 0.30000000000000004,\n",
       " 1.0595748162249992,\n",
       " 0.22,\n",
       " 1,\n",
       " 0,\n",
       " 0,\n",
       " 0,\n",
       " 0]"
      ]
     },
     "execution_count": 40,
     "metadata": {},
     "output_type": "execute_result"
    }
   ],
   "source": [
    "states[3][0]"
   ]
  },
  {
   "cell_type": "code",
   "execution_count": null,
   "metadata": {},
   "outputs": [],
   "source": []
  },
  {
   "cell_type": "code",
   "execution_count": null,
   "metadata": {},
   "outputs": [],
   "source": []
  },
  {
   "cell_type": "code",
   "execution_count": null,
   "metadata": {},
   "outputs": [],
   "source": []
  },
  {
   "cell_type": "code",
   "execution_count": null,
   "metadata": {},
   "outputs": [],
   "source": []
  },
  {
   "cell_type": "code",
   "execution_count": null,
   "metadata": {},
   "outputs": [],
   "source": []
  }
 ],
 "metadata": {
  "kernelspec": {
   "display_name": "Python 3",
   "language": "python",
   "name": "python3"
  },
  "language_info": {
   "codemirror_mode": {
    "name": "ipython",
    "version": 3
   },
   "file_extension": ".py",
   "mimetype": "text/x-python",
   "name": "python",
   "nbconvert_exporter": "python",
   "pygments_lexer": "ipython3",
   "version": "3.9.13"
  },
  "orig_nbformat": 4
 },
 "nbformat": 4,
 "nbformat_minor": 2
}
