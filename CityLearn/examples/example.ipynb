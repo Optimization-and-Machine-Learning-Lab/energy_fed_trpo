{
 "cells": [
  {
   "attachments": {},
   "cell_type": "markdown",
   "metadata": {},
   "source": [
    "# Dependencies\n",
    "***\n",
    "\n",
    "Uncomment and run cell below to install CityLearn and other dependencies for the internal RL agents."
   ]
  },
  {
   "cell_type": "code",
   "execution_count": 1,
   "metadata": {},
   "outputs": [],
   "source": [
    "# # upgrade pip\n",
    "# !pip install --upgrade pip\n",
    "\n",
    "# # Install dependencies\n",
    "# !pip install CityLearn scikit-learn==1.0.2 torch==1.12.0 torchvision==0.13.0"
   ]
  },
  {
   "cell_type": "code",
   "execution_count": 2,
   "metadata": {},
   "outputs": [],
   "source": [
    " # Import dependencies\n",
    "import math\n",
    "import os\n",
    "from pathlib import Path\n",
    "from citylearn.agents.rbc import OptimizedRBC as RBCAgent\n",
    "from citylearn.agents.sac import SACOptimizedRBC as SACAgent\n",
    "from citylearn.citylearn import CityLearnEnv\n",
    "from citylearn.cost_function import CostFunction\n",
    "import pandas as pd"
   ]
  },
  {
   "attachments": {},
   "cell_type": "markdown",
   "metadata": {},
   "source": [
    "# Helper Functions\n",
    "***"
   ]
  },
  {
   "cell_type": "code",
   "execution_count": 3,
   "metadata": {},
   "outputs": [],
   "source": [
    "# Function to calculate KPIs\n",
    "def get_kpis(env):\n",
    "    ## building level\n",
    "    building_kpis = []\n",
    "\n",
    "    for b in env.buildings:\n",
    "        building_kpis += [{\n",
    "            'building_name': b.name,\n",
    "            'kpi': 'electricity_consumption',\n",
    "            'value': CostFunction.net_electricity_consumption(b.net_electricity_consumption)[-1]/\\\n",
    "                CostFunction.net_electricity_consumption(b.net_electricity_consumption_without_storage)[-1],\n",
    "            }, {\n",
    "            'building_name': b.name,\n",
    "            'kpi': 'carbon_emissions',\n",
    "            'value': CostFunction.carbon_emissions(b.net_electricity_consumption_emission)[-1]/\\\n",
    "                CostFunction.carbon_emissions(b.net_electricity_consumption_without_storage_emission)[-1],\n",
    "            }, {\n",
    "            'building_name': b.name,\n",
    "            'kpi': 'zero_net_energy',\n",
    "            'value': sum(b.net_electricity_consumption)/\\\n",
    "                sum(b.net_electricity_consumption_without_storage),\n",
    "            }]\n",
    "\n",
    "    building_kpis = pd.DataFrame(building_kpis)\n",
    "    building_kpis['level'] = 'building'\n",
    "\n",
    "    ## district level\n",
    "    district_kpis = pd.DataFrame([{\n",
    "        'kpi': 'ramping',\n",
    "        'value': CostFunction.ramping(env.net_electricity_consumption)[-1]/\\\n",
    "            CostFunction.ramping(env.net_electricity_consumption_without_storage)[-1],\n",
    "        }, {\n",
    "        'kpi': '1 - load_factor',\n",
    "        'value': CostFunction.load_factor(env.net_electricity_consumption)[-1]/\\\n",
    "            CostFunction.load_factor(env.net_electricity_consumption_without_storage)[-1],\n",
    "        }, {\n",
    "        'kpi': 'average_daily_peak',\n",
    "        'value': CostFunction.average_daily_peak(env.net_electricity_consumption)[-1]/\\\n",
    "            CostFunction.average_daily_peak(env.net_electricity_consumption_without_storage)[-1],\n",
    "        }, {\n",
    "        'kpi': 'peak_demand',\n",
    "        'value': CostFunction.peak_demand(env.net_electricity_consumption)[-1]/\\\n",
    "            CostFunction.peak_demand(env.net_electricity_consumption_without_storage)[-1],\n",
    "        }])\n",
    "\n",
    "    district_kpis = pd.concat([district_kpis, building_kpis], ignore_index=True, sort=False)\n",
    "    district_kpis = district_kpis.groupby(['kpi'])[['value']].mean().reset_index()\n",
    "    district_kpis['building_name'] = 'District'\n",
    "    district_kpis['level'] = 'district'\n",
    "    kpis = pd.concat([district_kpis, building_kpis], ignore_index=True, sort=False)\n",
    "\n",
    "    return kpis\n",
    "\n",
    "def parse_kpis(kpis):\n",
    "    kpis['value'] = kpis['value'].round(3)\n",
    "    kpis = kpis.pivot(index='kpi', columns='building_name', values='value')\n",
    "    kpis = kpis.to_dict()\n",
    "    kpis = {b: {kpi: v for kpi, v in b_kpis.items() if not math.isnan(v)} for b, b_kpis in kpis.items()}\n",
    "\n",
    "    return kpis"
   ]
  },
  {
   "attachments": {},
   "cell_type": "markdown",
   "metadata": {},
   "source": [
    "# RBC Agent\n",
    "***\n",
    "Use the RBC agent to control the CityLearn Challenge 2022 Phase I environment."
   ]
  },
  {
   "cell_type": "code",
   "execution_count": 4,
   "metadata": {},
   "outputs": [
    {
     "name": "stdout",
     "output_type": "stream",
     "text": [
      "KPIs: {'Building_1': {'carbon_emissions': 1.046, 'electricity_consumption': 1.066, 'zero_net_energy': 1.042}, 'Building_2': {'carbon_emissions': 1.044, 'electricity_consumption': 1.066, 'zero_net_energy': 1.036}, 'Building_3': {'carbon_emissions': 1.076, 'electricity_consumption': 1.107, 'zero_net_energy': 1.106}, 'Building_4': {'carbon_emissions': 1.043, 'electricity_consumption': 1.066, 'zero_net_energy': 1.031}, 'Building_5': {'carbon_emissions': 1.068, 'electricity_consumption': 1.099, 'zero_net_energy': 1.052}, 'District': {'1 - load_factor': 0.991, 'average_daily_peak': 1.018, 'carbon_emissions': 1.055, 'electricity_consumption': 1.081, 'peak_demand': 0.992, 'ramping': 1.081, 'zero_net_energy': 1.053}}\n"
     ]
    }
   ],
   "source": [
    "schema = Path('../citylearn/data/citylearn_challenge_2022_phase_1/schema.json') # replace with applicable path to schema\n",
    "env = CityLearnEnv(schema)\n",
    "agents = RBCAgent(\n",
    "    action_space=env.action_space,\n",
    "    observation_space=env.observation_space,\n",
    "    building_information=env.get_building_information(),\n",
    "    observation_names=env.observation_names,\n",
    ")\n",
    "observations = env.reset()\n",
    "\n",
    "while not env.done:\n",
    "    actions = agents.select_actions(observations)\n",
    "\n",
    "    # apply actions to env\n",
    "    observations, rewards, _, _ = env.step(actions)\n",
    "\n",
    "print('KPIs:', parse_kpis(get_kpis(env)))"
   ]
  },
  {
   "attachments": {},
   "cell_type": "markdown",
   "metadata": {},
   "source": [
    "# SAC Agent\n",
    "***\n",
    "Use the SAC agent to control the CityLearn Challenge 2022 Phase I environment."
   ]
  },
  {
   "cell_type": "code",
   "execution_count": 5,
   "metadata": {},
   "outputs": [
    {
     "name": "stdout",
     "output_type": "stream",
     "text": [
      "Episode: 0 ; KPIs: {'Building_1': {'carbon_emissions': 1.035, 'electricity_consumption': 1.057, 'zero_net_energy': 1.06}, 'Building_2': {'carbon_emissions': 1.067, 'electricity_consumption': 1.079, 'zero_net_energy': 1.041}, 'Building_3': {'carbon_emissions': 1.066, 'electricity_consumption': 1.089, 'zero_net_energy': 1.091}, 'Building_4': {'carbon_emissions': 1.062, 'electricity_consumption': 1.076, 'zero_net_energy': 1.032}, 'Building_5': {'carbon_emissions': 1.07, 'electricity_consumption': 1.098, 'zero_net_energy': 1.052}, 'District': {'1 - load_factor': 0.99, 'average_daily_peak': 1.021, 'carbon_emissions': 1.06, 'electricity_consumption': 1.08, 'peak_demand': 0.992, 'ramping': 1.128, 'zero_net_energy': 1.055}}\n",
      "Episode: 1 ; KPIs: {'Building_1': {'carbon_emissions': 1.009, 'electricity_consumption': 1.011, 'zero_net_energy': 1.104}, 'Building_2': {'carbon_emissions': 1.073, 'electricity_consumption': 1.074, 'zero_net_energy': 1.078}, 'Building_3': {'carbon_emissions': 1.185, 'electricity_consumption': 1.185, 'zero_net_energy': 1.208}, 'Building_4': {'carbon_emissions': 1.145, 'electricity_consumption': 1.142, 'zero_net_energy': 1.067}, 'Building_5': {'carbon_emissions': 1.064, 'electricity_consumption': 1.072, 'zero_net_energy': 1.054}, 'District': {'1 - load_factor': 0.995, 'average_daily_peak': 1.07, 'carbon_emissions': 1.095, 'electricity_consumption': 1.097, 'peak_demand': 0.982, 'ramping': 1.333, 'zero_net_energy': 1.102}}\n",
      "Episode: 2 ; KPIs: {'Building_1': {'carbon_emissions': 0.961, 'electricity_consumption': 0.967, 'zero_net_energy': 1.104}, 'Building_2': {'carbon_emissions': 1.04, 'electricity_consumption': 1.044, 'zero_net_energy': 1.076}, 'Building_3': {'carbon_emissions': 1.093, 'electricity_consumption': 1.095, 'zero_net_energy': 1.159}, 'Building_4': {'carbon_emissions': 1.104, 'electricity_consumption': 1.102, 'zero_net_energy': 1.056}, 'Building_5': {'carbon_emissions': 1.041, 'electricity_consumption': 1.051, 'zero_net_energy': 1.062}, 'District': {'1 - load_factor': 0.996, 'average_daily_peak': 0.99, 'carbon_emissions': 1.048, 'electricity_consumption': 1.052, 'peak_demand': 1.083, 'ramping': 1.221, 'zero_net_energy': 1.091}}\n",
      "Episode: 3 ; KPIs: {'Building_1': {'carbon_emissions': 0.896, 'electricity_consumption': 0.905, 'zero_net_energy': 1.109}, 'Building_2': {'carbon_emissions': 0.958, 'electricity_consumption': 0.959, 'zero_net_energy': 1.062}, 'Building_3': {'carbon_emissions': 1.0, 'electricity_consumption': 1.002, 'zero_net_energy': 1.095}, 'Building_4': {'carbon_emissions': 1.03, 'electricity_consumption': 1.026, 'zero_net_energy': 1.035}, 'Building_5': {'carbon_emissions': 1.036, 'electricity_consumption': 1.044, 'zero_net_energy': 1.056}, 'District': {'1 - load_factor': 0.988, 'average_daily_peak': 0.93, 'carbon_emissions': 0.984, 'electricity_consumption': 0.987, 'peak_demand': 0.929, 'ramping': 1.104, 'zero_net_energy': 1.071}}\n",
      "Episode: 4 ; KPIs: {'Building_1': {'carbon_emissions': 0.849, 'electricity_consumption': 0.861, 'zero_net_energy': 1.104}, 'Building_2': {'carbon_emissions': 0.921, 'electricity_consumption': 0.927, 'zero_net_energy': 1.061}, 'Building_3': {'carbon_emissions': 0.97, 'electricity_consumption': 0.969, 'zero_net_energy': 1.07}, 'Building_4': {'carbon_emissions': 0.993, 'electricity_consumption': 0.989, 'zero_net_energy': 1.017}, 'Building_5': {'carbon_emissions': 0.995, 'electricity_consumption': 1.001, 'zero_net_energy': 1.035}, 'District': {'1 - load_factor': 0.985, 'average_daily_peak': 0.901, 'carbon_emissions': 0.945, 'electricity_consumption': 0.949, 'peak_demand': 0.92, 'ramping': 0.998, 'zero_net_energy': 1.057}}\n",
      "Episode: 5 ; KPIs: {'Building_1': {'carbon_emissions': 0.822, 'electricity_consumption': 0.838, 'zero_net_energy': 1.104}, 'Building_2': {'carbon_emissions': 0.888, 'electricity_consumption': 0.895, 'zero_net_energy': 1.065}, 'Building_3': {'carbon_emissions': 0.952, 'electricity_consumption': 0.953, 'zero_net_energy': 1.073}, 'Building_4': {'carbon_emissions': 0.988, 'electricity_consumption': 0.986, 'zero_net_energy': 1.013}, 'Building_5': {'carbon_emissions': 0.976, 'electricity_consumption': 0.984, 'zero_net_energy': 1.025}, 'District': {'1 - load_factor': 0.975, 'average_daily_peak': 0.88, 'carbon_emissions': 0.925, 'electricity_consumption': 0.931, 'peak_demand': 0.878, 'ramping': 0.955, 'zero_net_energy': 1.056}}\n",
      "Episode: 6 ; KPIs: {'Building_1': {'carbon_emissions': 0.817, 'electricity_consumption': 0.833, 'zero_net_energy': 1.104}, 'Building_2': {'carbon_emissions': 0.867, 'electricity_consumption': 0.875, 'zero_net_energy': 1.071}, 'Building_3': {'carbon_emissions': 0.934, 'electricity_consumption': 0.933, 'zero_net_energy': 1.084}, 'Building_4': {'carbon_emissions': 0.98, 'electricity_consumption': 0.979, 'zero_net_energy': 1.014}, 'Building_5': {'carbon_emissions': 0.973, 'electricity_consumption': 0.981, 'zero_net_energy': 1.024}, 'District': {'1 - load_factor': 0.973, 'average_daily_peak': 0.868, 'carbon_emissions': 0.914, 'electricity_consumption': 0.92, 'peak_demand': 0.86, 'ramping': 0.949, 'zero_net_energy': 1.059}}\n",
      "Episode: 7 ; KPIs: {'Building_1': {'carbon_emissions': 0.809, 'electricity_consumption': 0.826, 'zero_net_energy': 1.103}, 'Building_2': {'carbon_emissions': 0.86, 'electricity_consumption': 0.868, 'zero_net_energy': 1.07}, 'Building_3': {'carbon_emissions': 0.929, 'electricity_consumption': 0.926, 'zero_net_energy': 1.088}, 'Building_4': {'carbon_emissions': 0.978, 'electricity_consumption': 0.976, 'zero_net_energy': 1.015}, 'Building_5': {'carbon_emissions': 0.968, 'electricity_consumption': 0.976, 'zero_net_energy': 1.024}, 'District': {'1 - load_factor': 0.977, 'average_daily_peak': 0.864, 'carbon_emissions': 0.909, 'electricity_consumption': 0.914, 'peak_demand': 0.902, 'ramping': 0.942, 'zero_net_energy': 1.06}}\n",
      "Episode: 8 ; KPIs: {'Building_1': {'carbon_emissions': 0.804, 'electricity_consumption': 0.821, 'zero_net_energy': 1.102}, 'Building_2': {'carbon_emissions': 0.854, 'electricity_consumption': 0.862, 'zero_net_energy': 1.072}, 'Building_3': {'carbon_emissions': 0.919, 'electricity_consumption': 0.918, 'zero_net_energy': 1.093}, 'Building_4': {'carbon_emissions': 0.973, 'electricity_consumption': 0.971, 'zero_net_energy': 1.016}, 'Building_5': {'carbon_emissions': 0.964, 'electricity_consumption': 0.973, 'zero_net_energy': 1.027}, 'District': {'1 - load_factor': 0.977, 'average_daily_peak': 0.859, 'carbon_emissions': 0.903, 'electricity_consumption': 0.909, 'peak_demand': 0.886, 'ramping': 0.94, 'zero_net_energy': 1.062}}\n",
      "Episode: 9 ; KPIs: {'Building_1': {'carbon_emissions': 0.801, 'electricity_consumption': 0.817, 'zero_net_energy': 1.102}, 'Building_2': {'carbon_emissions': 0.848, 'electricity_consumption': 0.856, 'zero_net_energy': 1.073}, 'Building_3': {'carbon_emissions': 0.914, 'electricity_consumption': 0.913, 'zero_net_energy': 1.101}, 'Building_4': {'carbon_emissions': 0.969, 'electricity_consumption': 0.968, 'zero_net_energy': 1.016}, 'Building_5': {'carbon_emissions': 0.963, 'electricity_consumption': 0.972, 'zero_net_energy': 1.026}, 'District': {'1 - load_factor': 0.978, 'average_daily_peak': 0.856, 'carbon_emissions': 0.899, 'electricity_consumption': 0.905, 'peak_demand': 0.917, 'ramping': 0.932, 'zero_net_energy': 1.064}}\n"
     ]
    }
   ],
   "source": [
    "schema = Path('../citylearn/data/citylearn_challenge_2022_phase_1/schema.json') # replace with applicable path to schema\n",
    "env = CityLearnEnv(schema)\n",
    "agents = SACAgent(\n",
    "    building_ids=[b.uid for b in env.buildings],\n",
    "    action_space=env.action_space,\n",
    "    observation_space=env.observation_space,\n",
    "    building_information=env.get_building_information(),\n",
    "    observation_names=env.observation_names,\n",
    "    hidden_dimension=[256, 256],\n",
    "    discount=0.99,\n",
    "    tau=0.005,\n",
    "    lr=0.003,\n",
    "    batch_size=256,\n",
    "    replay_buffer_capacity=1e5,\n",
    "    start_training_time_step=6000,\n",
    "    end_exploration_time_step=7000,\n",
    "    deterministic_start_time_step=7500,\n",
    "    action_scaling_coef=0.5,\n",
    "    reward_scaling=5.0,\n",
    "    update_per_time_step=2\n",
    ")\n",
    "episodes = 10 # number of training episodes\n",
    "\n",
    "for e in range(episodes):\n",
    "    observations = env.reset()\n",
    "\n",
    "    while not env.done:\n",
    "        actions = agents.select_actions(observations)\n",
    "\n",
    "        # apply actions to env\n",
    "        next_observations, rewards, _, _ = env.step(actions)\n",
    "\n",
    "        # update agents\n",
    "        agents.add_to_buffer(observations, actions, rewards, next_observations, done=env.done)\n",
    "        observations = [o for o in next_observations]\n",
    "\n",
    "    print('Episode:', e, '; KPIs:', parse_kpis(get_kpis(env)))"
   ]
  }
 ],
 "metadata": {
  "kernelspec": {
   "display_name": "test_env",
   "language": "python",
   "name": "python3"
  },
  "language_info": {
   "codemirror_mode": {
    "name": "ipython",
    "version": 3
   },
   "file_extension": ".py",
   "mimetype": "text/x-python",
   "name": "python",
   "nbconvert_exporter": "python",
   "pygments_lexer": "ipython3",
   "version": "3.7.7"
  },
  "orig_nbformat": 4,
  "vscode": {
   "interpreter": {
    "hash": "24d13602916ce501dab33551801634a98323f75b1378db411e4ca12af6dc15d7"
   }
  }
 },
 "nbformat": 4,
 "nbformat_minor": 2
}
